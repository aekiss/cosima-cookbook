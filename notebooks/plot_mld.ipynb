{
 "cells": [
  {
   "cell_type": "code",
   "execution_count": 1,
   "metadata": {},
   "outputs": [
    {
     "name": "stdout",
     "output_type": "stream",
     "text": [
      "netcdf_index loaded.\n"
     ]
    }
   ],
   "source": [
    "%matplotlib inline\n",
    "import matplotlib.pyplot as plt\n",
    "from mpl_toolkits.basemap import Basemap, shiftgrid, addcyclic\n",
    "import cosima_cookbook as cc\n",
    "\n",
    "import xarray as xr\n",
    "import numpy as np\n",
    "import netCDF4 as nc\n",
    "import pandas as pd"
   ]
  },
  {
   "cell_type": "code",
   "execution_count": 2,
   "metadata": {},
   "outputs": [],
   "source": [
    "from joblib import Memory\n",
    "\n",
    "memory = Memory(cachedir='/g/data1/v45/cosima-cookbook/', verbose=0)"
   ]
  },
  {
   "cell_type": "code",
   "execution_count": 3,
   "metadata": {
    "scrolled": true
   },
   "outputs": [
    {
     "data": {
      "text/plain": [
       "['GFDL50',\n",
       " 'KDS75',\n",
       " 'KDS75_PI',\n",
       " 'KDS75_UP',\n",
       " 'KDS75_WOA13',\n",
       " 'KDS75_newbathy_CORE',\n",
       " 'KDS75_newbathy_JRA',\n",
       " 'KDS75_newbathy_JRA_runoff',\n",
       " 'KDS75_salt10days',\n",
       " 'KDS75_saltfluxes',\n",
       " 'KDS75_wind']"
      ]
     },
     "metadata": {},
     "output_type": "display_data"
    }
   ],
   "source": [
    "configuration = 'mom01v5'\n",
    "#configuration = 'mom025'\n",
    "\n",
    "expts = cc.get_experiments(configuration)\n",
    "display(expts)"
   ]
  },
  {
   "cell_type": "code",
   "execution_count": null,
   "metadata": {
    "scrolled": true
   },
   "outputs": [],
   "source": [
    "configuration = 'access-om2-01'\n",
    "\n",
    "expts = cc.get_experiments(configuration)\n",
    "display(expts)"
   ]
  },
  {
   "cell_type": "code",
   "execution_count": 4,
   "metadata": {},
   "outputs": [],
   "source": [
    "# ncfile = 'ocean.nc'\n",
    "#expt = 'mom025_jra_ryf9091'\n",
    "expt = 'KDS75_newbathy_JRA' "
   ]
  },
  {
   "cell_type": "code",
   "execution_count": 5,
   "metadata": {},
   "outputs": [],
   "source": [
    "@memory.cache\n",
    "def load_mld(expt):\n",
    "    ## Load mld from expt, pick up one year \n",
    "    mld = cc.get_nc_variable(expt, 'ocean.nc', 'mld', \n",
    "                         time_units = 'days since 1900-01-01')\n",
    "    mean_mld = mld.sel(time=slice('1902-01','1902-12')).mean('time')\n",
    "    return mean_mld.load();  # force the calculation"
   ]
  },
  {
   "cell_type": "code",
   "execution_count": 6,
   "metadata": {},
   "outputs": [
    {
     "data": {
      "application/vnd.jupyter.widget-view+json": {
       "model_id": "f1c81dc4063a4532958d2c9e2620b1cc",
       "version_major": 2,
       "version_minor": 0
      },
      "text/html": [
       "<p>Failed to display Jupyter Widget of type <code>HBox</code>.</p>\n",
       "<p>\n",
       "  If you're reading this message in the Jupyter Notebook or JupyterLab Notebook, it may mean\n",
       "  that the widgets JavaScript is still loading. If this message persists, it\n",
       "  likely means that the widgets JavaScript library is either not installed or\n",
       "  not enabled. See the <a href=\"https://ipywidgets.readthedocs.io/en/stable/user_install.html\">Jupyter\n",
       "  Widgets Documentation</a> for setup instructions.\n",
       "</p>\n",
       "<p>\n",
       "  If you're reading this message in another frontend (for example, a static\n",
       "  rendering on GitHub or <a href=\"https://nbviewer.jupyter.org/\">NBViewer</a>),\n",
       "  it may mean that your frontend doesn't currently support widgets.\n",
       "</p>\n"
      ],
      "text/plain": [
       "HBox(children=(IntProgress(value=0, description='get_nc_variable:', max=19), HTML(value='')))"
      ]
     },
     "metadata": {},
     "output_type": "display_data"
    },
    {
     "name": "stdout",
     "output_type": "stream",
     "text": [
      "\r"
     ]
    },
    {
     "name": "stderr",
     "output_type": "stream",
     "text": [
      "/g/data3/hh5/public/apps/miniconda3/envs/analysis3/lib/python3.6/site-packages/dask/array/numpy_compat.py:45: RuntimeWarning: invalid value encountered in true_divide\n",
      "  x = np.divide(x1, x2, out)\n"
     ]
    }
   ],
   "source": [
    "mean_mld = load_mld(expt)"
   ]
  },
  {
   "cell_type": "code",
   "execution_count": 7,
   "metadata": {
    "scrolled": false
   },
   "outputs": [],
   "source": [
    "# 2017-10-24 download from http://www.ifremer.fr/cerweb/deboyer/mld/Surface_Mixed_Layer_Depth.php\n",
    "obs_filename = '/g/data3/hh5/tmp/cosima/observations/original/mld_DR003_c1m_reg2.0.nc'\n",
    "obs = xr.open_dataset(obs_filename, decode_times=False)\n",
    "mean_mld_obs = obs.mld.mean('time')"
   ]
  },
  {
   "cell_type": "code",
   "execution_count": null,
   "metadata": {},
   "outputs": [],
   "source": [
    "# 2017-11-03 download from ftp://ftp2.jamstec.go.jp/pub/argo/MILA_GPV/monthly/mld/2x2/, more data can be downloaded (month and 10days).\n",
    "#cax6 = ax6.pcolormesh(new_lon_mila, lat_mila, max_mld_mila, shading='flat', cmap=plt.cm.jet, vmin=0.0, vmax=400.0)\n",
    "mila_obs_filename = '/g/data3/hh5/tmp/cosima/observations/original/ml_MLD_CLIM_ann.nc'\n",
    "mila_obs = xr.open_dataset(obs_filename, decode_times=False)\n",
    "mean_mila_mld_obs = mila_obs.mld.mean('time')\n"
   ]
  },
  {
   "cell_type": "markdown",
   "metadata": {},
   "source": [
    "MLD should always be positive (right?).  Mask out the negative values in the observations."
   ]
  },
  {
   "cell_type": "code",
   "execution_count": 8,
   "metadata": {},
   "outputs": [
    {
     "name": "stderr",
     "output_type": "stream",
     "text": [
      "/g/data3/hh5/public/apps/miniconda3/envs/analysis3/lib/python3.6/site-packages/ipykernel/__main__.py:1: RuntimeWarning: invalid value encountered in less\n",
      "  if __name__ == '__main__':\n"
     ]
    }
   ],
   "source": [
    "mean_mld_obs.data[mean_mld_obs.data < 0] = np.nan"
   ]
  },
  {
   "cell_type": "markdown",
   "metadata": {},
   "source": [
    "Shift the grid of the observations so that it starts from -80W"
   ]
  },
  {
   "cell_type": "code",
   "execution_count": 9,
   "metadata": {},
   "outputs": [],
   "source": [
    "mean_mld_obs.data, mean_mld_obs.lon.data = shiftgrid(80, mean_mld_obs.data,\n",
    "                                                 mean_mld_obs.lon.data, \n",
    "                                                     cyclic=360, start=True)\n",
    "mean_mld_obs.lon.data = mean_mld_obs.lon.data - 160"
   ]
  },
  {
   "cell_type": "code",
   "execution_count": 12,
   "metadata": {},
   "outputs": [
    {
     "data": {
      "text/plain": [
       "Text(0.5,1,'IFREMER mean MLD obs')"
      ]
     },
     "execution_count": 12,
     "metadata": {},
     "output_type": "execute_result"
    },
    {
     "data": {
      "image/png": "[encoded data removed]",
      "text/plain": [
       "<matplotlib.figure.Figure at 0x7f49c1c328d0>"
      ]
     },
     "metadata": {},
     "output_type": "display_data"
    }
   ],
   "source": [
    "fig, ax = plt.subplots(2,2, figsize=(12,8))\n",
    "\n",
    "kwargs = {'vmin':0, 'vmax':400}\n",
    "\n",
    "mean_mld.plot.contourf(ax=ax[0,0], **kwargs)\n",
    "ax[0,0].set_title(expt)\n",
    "\n",
    "mean_mld_obs.plot.contourf(ax=ax[0,1], **kwargs)\n",
    "# ax[0,1].set_title('Observation')\n",
    "ax[0,1].set_title('IFREMER mean MLD obs')\n",
    "\n",
    "\n"
   ]
  },
  {
   "cell_type": "code",
   "execution_count": 11,
   "metadata": {},
   "outputs": [
    {
     "ename": "NameError",
     "evalue": "name 'lon' is not defined",
     "output_type": "error",
     "traceback": [
      "\u001b[0;31m---------------------------------------------------------------------------\u001b[0m",
      "\u001b[0;31mNameError\u001b[0m                                 Traceback (most recent call last)",
      "\u001b[0;32m<ipython-input-11-7de6b1dcc796>\u001b[0m in \u001b[0;36m<module>\u001b[0;34m()\u001b[0m\n\u001b[1;32m      3\u001b[0m \u001b[0max1\u001b[0m \u001b[0;34m=\u001b[0m \u001b[0mfig\u001b[0m\u001b[0;34m.\u001b[0m\u001b[0madd_subplot\u001b[0m\u001b[0;34m(\u001b[0m\u001b[0;36m2\u001b[0m\u001b[0;34m,\u001b[0m \u001b[0;36m2\u001b[0m\u001b[0;34m,\u001b[0m \u001b[0;36m1\u001b[0m\u001b[0;34m)\u001b[0m\u001b[0;34m\u001b[0m\u001b[0m\n\u001b[1;32m      4\u001b[0m \u001b[0;31m#cax1 = ax1.pcolormesh(x, y, old_m_sst, shading='flat', cmap=plt.cm.jet)\u001b[0m\u001b[0;34m\u001b[0m\u001b[0;34m\u001b[0m\u001b[0m\n\u001b[0;32m----> 5\u001b[0;31m \u001b[0mcax1\u001b[0m \u001b[0;34m=\u001b[0m \u001b[0max1\u001b[0m\u001b[0;34m.\u001b[0m\u001b[0mpcolormesh\u001b[0m\u001b[0;34m(\u001b[0m\u001b[0mlon\u001b[0m\u001b[0;34m,\u001b[0m \u001b[0mlat\u001b[0m\u001b[0;34m,\u001b[0m \u001b[0mmld_mom\u001b[0m\u001b[0;34m,\u001b[0m \u001b[0mshading\u001b[0m\u001b[0;34m=\u001b[0m\u001b[0;34m'flat'\u001b[0m\u001b[0;34m,\u001b[0m \u001b[0mcmap\u001b[0m\u001b[0;34m=\u001b[0m\u001b[0mplt\u001b[0m\u001b[0;34m.\u001b[0m\u001b[0mcm\u001b[0m\u001b[0;34m.\u001b[0m\u001b[0mjet\u001b[0m\u001b[0;34m,\u001b[0m \u001b[0mvmin\u001b[0m\u001b[0;34m=\u001b[0m\u001b[0;36m0.0\u001b[0m\u001b[0;34m,\u001b[0m \u001b[0mvmax\u001b[0m\u001b[0;34m=\u001b[0m\u001b[0;36m400.0\u001b[0m\u001b[0;34m)\u001b[0m\u001b[0;34m\u001b[0m\u001b[0m\n\u001b[0m\u001b[1;32m      6\u001b[0m \u001b[0mfig\u001b[0m\u001b[0;34m.\u001b[0m\u001b[0mcolorbar\u001b[0m\u001b[0;34m(\u001b[0m\u001b[0mcax1\u001b[0m\u001b[0;34m)\u001b[0m\u001b[0;34m\u001b[0m\u001b[0m\n\u001b[1;32m      7\u001b[0m \u001b[0;31m#cbar.outline.set_linewidth(1)\u001b[0m\u001b[0;34m\u001b[0m\u001b[0;34m\u001b[0m\u001b[0m\n",
      "\u001b[0;31mNameError\u001b[0m: name 'lon' is not defined"
     ]
    },
    {
     "data": {
      "image/png": "[encoded data removed]",
      "text/plain": [
       "<matplotlib.figure.Figure at 0x7f49c1c53e48>"
      ]
     },
     "metadata": {},
     "output_type": "display_data"
    }
   ],
   "source": [
    "fig = plt.figure(figsize=(14,8))\n",
    "\n",
    "ax1 = fig.add_subplot(2, 2, 1)\n",
    "#cax1 = ax1.pcolormesh(x, y, old_m_sst, shading='flat', cmap=plt.cm.jet)\n",
    "cax1 = ax1.pcolormesh(lon, lat, mld_mom, shading='flat', cmap=plt.cm.jet, vmin=0.0, vmax=400.0)\n",
    "fig.colorbar(cax1)\n",
    "#cbar.outline.set_linewidth(1)\n",
    "plt.title('MOM mean MLD', fontsize=12)\n",
    "\n",
    "ax2 = fig.add_subplot(2, 2, 2)\n",
    "#cax1 = ax1.pcolormesh(x, y, old_m_sst, shading='flat', cmap=plt.cm.jet)\n",
    "cax2 = ax2.pcolormesh(m_mld_obs.lon, m_mld_obs.lat, m_mld_obs, shading='flat', cmap=plt.cm.jet, vmin=0.0, vmax=400.0)\n",
    "fig.colorbar(cax1)\n",
    "#cbar.outline.set_linewidth(1)\n",
    "plt.title('IFREMER mean MLD', fontsize=12)\n",
    "\n",
    "ax3 = fig.add_subplot(2, 2, 3)\n",
    "#cax1 = ax1.pcolormesh(x, y, old_m_sst, shading='flat', cmap=plt.cm.jet)\n",
    "cax3 = ax3.pcolormesh(new_lon_mila, lat_mila, mld_mila, shading='flat', cmap=plt.cm.jet, vmin=0.0, vmax=400.0)\n",
    "fig.colorbar(cax3)\n",
    "#cbar.outline.set_linewidth(1)\n",
    "plt.title('MILA GPV mean MLD', fontsize=12)\n",
    "\n",
    "#ax4 = fig.add_subplot(2, 2, 4)\n",
    "##cax1 = ax1.pcolormesh(x, y, old_m_sst, shading='flat', cmap=plt.cm.jet)\n",
    "#cax4 = ax4.pcolormesh(lon_argo, lat_argo, m_mld_argo, shading='flat', cmap=plt.cm.jet)#, vmin=0.0, vmax=400.0)\n",
    "#fig.colorbar(cax4)\n",
    "##cbar.outline.set_linewidth(1)\n",
    "#plt.title('Argo mean MLD', fontsize=12)\n",
    "\n",
    "#ax4 = fig.add_subplot(3, 3, 4)\n",
    "##cax1 = ax1.pcolormesh(x, y, old_m_sst, shading='flat', cmap=plt.cm.jet)\n",
    "#cax4 = ax4.pcolormesh(lon, lat, max_mld_mom, shading='flat', cmap=plt.cm.jet, vmin=0.0, vmax=400.0)\n",
    "#fig.colorbar(cax4)\n",
    "##cbar.outline.set_linewidth(1)\n",
    "#plt.title('MOM maximum MLD', fontsize=12)\n",
    "#\n",
    "#ax5 = fig.add_subplot(3, 3, 5)\n",
    "##cax1 = ax1.pcolormesh(x, y, old_m_sst, shading='flat', cmap=plt.cm.jet)\n",
    "#cax5 = ax5.pcolormesh(lon_obs, lat_obs, max_mld_obs, shading='flat', cmap=plt.cm.jet, vmin=0.0, vmax=400.0)\n",
    "#fig.colorbar(cax5)\n",
    "##cbar.outline.set_linewidth(1)\n",
    "#plt.title('IFREMER maximum MLD', fontsize=12)\n",
    "#\n",
    "#ax6 = fig.add_subplot(3, 3, 6)\n",
    "##cax1 = ax1.pcolormesh(x, y, old_m_sst, shading='flat', cmap=plt.cm.jet)\n",
    "#cax6 = ax6.pcolormesh(new_lon_mila, lat_mila, max_mld_mila, shading='flat', cmap=plt.cm.jet, vmin=0.0, vmax=400.0)\n",
    "#fig.colorbar(cax6)\n",
    "##cbar.outline.set_linewidth(1)\n",
    "#plt.title('MILA GPV maximum MLD', fontsize=12)\n",
    "#\n",
    "#ax7 = fig.add_subplot(3, 3, 7)\n",
    "##cax1 = ax1.pcolormesh(x, y, old_m_sst, shading='flat', cmap=plt.cm.jet)\n",
    "#cax7 = ax7.pcolormesh(lon, lat, min_mld_mom, shading='flat', cmap=plt.cm.jet, vmin=0.0, vmax=400.0)\n",
    "#fig.colorbar(cax7)\n",
    "##cbar.outline.set_linewidth(1)\n",
    "#plt.title('MOM minimum MLD', fontsize=12)\n",
    "#\n",
    "#ax8 = fig.add_subplot(3, 3, 8)\n",
    "##cax1 = ax1.pcolormesh(x, y, old_m_sst, shading='flat', cmap=plt.cm.jet)\n",
    "#cax8 = ax8.pcolormesh(lon_obs, lat_obs, min_mld_obs, shading='flat', cmap=plt.cm.jet, vmin=0.0, vmax=400.0)\n",
    "#fig.colorbar(cax8)\n",
    "##cbar.outline.set_linewidth(1)\n",
    "#plt.title('IFREMER minimum MLD', fontsize=12)\n",
    "#\n",
    "#ax9 = fig.add_subplot(3, 3, 9)\n",
    "##cax1 = ax1.pcolormesh(x, y, old_m_sst, shading='flat', cmap=plt.cm.jet)\n",
    "#cax9 = ax9.pcolormesh(new_lon_mila, lat_mila, min_mld_mila, shading='flat', cmap=plt.cm.jet, vmin=0.0, vmax=400.0)\n",
    "#fig.colorbar(cax9)\n",
    "##cbar.outline.set_linewidth(1)\n",
    "#plt.title('MILA GPV minimum MLD', fontsize=12)"
   ]
  },
  {
   "cell_type": "code",
   "execution_count": null,
   "metadata": {},
   "outputs": [],
   "source": []
  }
 ],
 "metadata": {
  "kernelspec": {
   "display_name": "Python [default]",
   "language": "python",
   "name": "python3"
  },
  "language_info": {
   "codemirror_mode": {
    "name": "ipython",
    "version": 3
   },
   "file_extension": ".py",
   "mimetype": "text/x-python",
   "name": "python",
   "nbconvert_exporter": "python",
   "pygments_lexer": "ipython3",
   "version": "3.6.4"
  }
 },
 "nbformat": 4,
 "nbformat_minor": 2
}
