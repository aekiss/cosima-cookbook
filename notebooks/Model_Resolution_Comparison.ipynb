{
 "cells": [
  {
   "cell_type": "markdown",
   "metadata": {},
   "source": [
    "# Comparing Model Resolution\n",
    "\n",
    "This is a simple example to show how to plot the model bathymetry. It uses cartopy, and the recently developed 0.1° topography."
   ]
  },
  {
   "cell_type": "code",
   "execution_count": 1,
   "metadata": {},
   "outputs": [
    {
     "name": "stdout",
     "output_type": "stream",
     "text": [
      "netcdf_index loaded.\n"
     ]
    },
    {
     "name": "stderr",
     "output_type": "stream",
     "text": [
      "/home/156/aek156/.local/lib/python3.6/site-packages/cmocean/tools.py:76: MatplotlibDeprecationWarning: The is_string_like function was deprecated in version 2.1.\n",
      "  if not mpl.cbook.is_string_like(rgbin[0]):\n"
     ]
    }
   ],
   "source": [
    "%matplotlib inline\n",
    "\n",
    "import cosima_cookbook as cc\n",
    "import matplotlib.pyplot as plt\n",
    "import xarray as xr\n",
    "import numpy as np\n",
    "import netCDF4 as nc\n",
    "import cartopy.crs as ccrs\n",
    "import cartopy.feature as cft\n",
    "import cmocean as cm\n",
    "import IPython.display"
   ]
  },
  {
   "cell_type": "code",
   "execution_count": 2,
   "metadata": {},
   "outputs": [],
   "source": [
    "# Grabbing tenth degree data from our latest run. These are output monthly at the moment.\n",
    "u01 = cc.get_nc_variable('KDS75_newbathy_JRA','ocean.nc','u',n=1).isel(st_ocean=0).isel(time=0)\n",
    "v01 = cc.get_nc_variable('KDS75_newbathy_JRA','ocean.nc','v',n=1).isel(st_ocean=0).isel(time=0)\n",
    "lons01 = cc.get_nc_variable('KDS75_newbathy_JRA','ocean.nc','geolon_c',n=1).isel(time=0)\n",
    "lats01 = cc.get_nc_variable('KDS75_newbathy_JRA','ocean.nc','geolat_c',n=1).isel(time=0)\n",
    "uv01 = np.sqrt(u01**2 + v01**2)\n",
    "IPython.display.clear_output()"
   ]
  },
  {
   "cell_type": "code",
   "execution_count": 3,
   "metadata": {},
   "outputs": [],
   "source": [
    "# Grabbing quarter degree data from our latest run. These are output monthly at the moment.\n",
    "u025 = cc.get_nc_variable('025deg_jra55_ryf_spinup7','iceh.\\d+-\\d+.nc','uocn_m',n=1).isel(time=0)\n",
    "v025 = cc.get_nc_variable('025deg_jra55_ryf_spinup7','iceh.\\d+-\\d+.nc','vocn_m',n=1).isel(time=0)\n",
    "lons025 = cc.get_nc_variable('025deg_jra55_ryf_spinup7','ocean_grid.nc','geolon_c',n=1).isel(time=0)\n",
    "lats025 = cc.get_nc_variable('025deg_jra55_ryf_spinup7','ocean_grid.nc','geolat_c',n=1).isel(time=0)\n",
    "uv025 = np.sqrt(u025**2 + v025**2)\n",
    "IPython.display.clear_output()"
   ]
  },
  {
   "cell_type": "code",
   "execution_count": 4,
   "metadata": {},
   "outputs": [],
   "source": [
    "# Grabbing one degree data from our latest run. These are output monthly at the moment.\n",
    "u1 = cc.get_nc_variable('1deg_jra55v13_ryf8485_spinup_A','iceh.\\d+-\\d+.nc','uocn_m',n=1).isel(time=0)\n",
    "v1 = cc.get_nc_variable('1deg_jra55v13_ryf8485_spinup_A','iceh.\\d+-\\d+.nc','vocn_m',n=1).isel(time=0)\n",
    "lons1 = cc.get_nc_variable('1deg_jra55v13_ryf8485_spinup_A','ocean_grid.nc','geolon_c',n=1).isel(time=0)\n",
    "lats1 = cc.get_nc_variable('1deg_jra55v13_ryf8485_spinup_A','ocean_grid.nc','geolat_c',n=1).isel(time=0)\n",
    "uv1 = np.sqrt(u1**2 + v1**2)\n",
    "IPython.display.clear_output()"
   ]
  },
  {
   "cell_type": "code",
   "execution_count": null,
   "metadata": {
    "scrolled": false
   },
   "outputs": [],
   "source": [
    "location=[5, 45, -50, -25]  # Agulhas\n",
    "\n",
    "location=[140, 180, -60, -5]  # Eastern South Pacific and Southern Ocean \n",
    "\n",
    "\n",
    "plt.figure(figsize=(6,6))\n",
    "ax = plt.axes(projection=ccrs.Robinson(central_longitude=np.mean(location[0:2])))\n",
    "ax.set_extent(location)\n",
    "ax.coastlines(resolution='50m')\n",
    "ax.add_feature(cft.LAND,color='gray')\n",
    "plt.pcolor(lons1, lats1, uv1, cmap=cm.cm.thermal, \n",
    "               vmax=1, transform=ccrs.PlateCarree())  # pcolormesh would be faster but can't handle masked x, y data\n",
    "plt.colorbar(shrink=0.6,label='Speed (m/s)',extend='max')\n",
    "plt.title('(a) ACCESS-OM2')\n",
    "plt.savefig('../../figures/access-om2.png',dpi=300)\n",
    "\n",
    "\n",
    "plt.figure(figsize=(6,6))\n",
    "ax = plt.axes(projection=ccrs.Robinson(central_longitude=np.mean(location[0:2])))\n",
    "ax.set_extent(location)\n",
    "ax.coastlines(resolution='50m')\n",
    "ax.add_feature(cft.LAND,color='gray')\n",
    "plt.pcolor(lons025, lats025, uv025, cmap=cm.cm.thermal, \n",
    "               vmax=1, transform=ccrs.PlateCarree())\n",
    "plt.colorbar(shrink=0.6,label='Speed (m/s)',extend='max')\n",
    "plt.title('(b) ACCESS-OM2-025')\n",
    "plt.savefig('../../figures/access-om2-025.png',dpi=300)\n",
    "\n",
    "\n",
    "plt.figure(figsize=(6,6))\n",
    "ax = plt.axes(projection=ccrs.Robinson(central_longitude=np.mean(location[0:2])))\n",
    "ax.set_extent(location)\n",
    "ax.coastlines(resolution='50m')\n",
    "ax.add_feature(cft.LAND,color='gray')\n",
    "plt.pcolor(lons01, lats01, uv01, cmap=cm.cm.thermal, \n",
    "               vmax=1, transform=ccrs.PlateCarree())\n",
    "plt.colorbar(shrink=0.6,label='Speed (m/s)',extend='max')\n",
    "plt.title('(c) ACCESS-OM2-01')\n",
    "plt.savefig('../../figures/access-om2-01.png',dpi=300)\n",
    "\n"
   ]
  },
  {
   "cell_type": "code",
   "execution_count": null,
   "metadata": {},
   "outputs": [],
   "source": [
    "plt.figure(figsize=(6,6))\n",
    "ax = plt.axes(projection=ccrs.Robinson(central_longitude=150))\n",
    "ax.set_extent([135, 180, -60, -30])\n",
    "ax.coastlines(resolution='50m')\n",
    "ax.add_feature(cft.LAND,color='gray')\n",
    "plt.pcolormesh(lons1, lats1, uv1, cmap=cm.cm.thermal, \n",
    "               vmax=1, transform=ccrs.PlateCarree())\n",
    "plt.colorbar(shrink=0.6,label='Speed (m/s)',extend='max')\n",
    "plt.title('(a) ACCESS-OM2')\n",
    "\n",
    "\n",
    "plt.figure(figsize=(6,6))\n",
    "ax = plt.axes(projection=ccrs.Robinson(central_longitude=150))\n",
    "ax.set_extent([135, 180, -60, -30])\n",
    "\n",
    "ax.coastlines(resolution='50m')\n",
    "ax.add_feature(cft.LAND,color='gray')\n",
    "plt.pcolormesh(lons025, lats025, uv025, cmap=cm.cm.thermal, \n",
    "               vmax=1, transform=ccrs.PlateCarree())\n",
    "plt.colorbar(shrink=0.6,label='Speed (m/s)',extend='max')\n",
    "plt.title('(b) ACCESS-OM2-025')\n",
    "\n",
    "\n",
    "plt.figure(figsize=(6,6))\n",
    "ax = plt.axes(projection=ccrs.Robinson(central_longitude=150))\n",
    "ax.set_extent([135, 180, -60, -30])\n",
    "ax.coastlines(resolution='50m')\n",
    "ax.add_feature(cft.LAND,color='gray')\n",
    "plt.pcolormesh(lons01, lats01, uv01, cmap=cm.cm.thermal, \n",
    "               vmax=1, transform=ccrs.PlateCarree())\n",
    "plt.colorbar(shrink=0.6,label='Speed (m/s)',extend='max')\n",
    "plt.title('(c) ACCESS-OM2-01')\n",
    "\n",
    "\n"
   ]
  },
  {
   "cell_type": "code",
   "execution_count": null,
   "metadata": {},
   "outputs": [],
   "source": []
  }
 ],
 "metadata": {
  "kernelspec": {
   "display_name": "Python [conda env:analysis3]",
   "language": "python",
   "name": "conda-env-analysis3-py"
  },
  "nbdime-conflicts": {
   "local_diff": [
    {
     "key": "language_info",
     "op": "add",
     "value": {
      "codemirror_mode": {
       "name": "ipython",
       "version": 3
      },
      "file_extension": ".py",
      "mimetype": "text/x-python",
      "name": "python",
      "nbconvert_exporter": "python",
      "pygments_lexer": "ipython3",
      "version": "3.6.4"
     }
    }
   ],
   "remote_diff": [
    {
     "key": "language_info",
     "op": "add",
     "value": {
      "codemirror_mode": {
       "name": "ipython",
       "version": 3
      },
      "file_extension": ".py",
      "mimetype": "text/x-python",
      "name": "python",
      "nbconvert_exporter": "python",
      "pygments_lexer": "ipython3",
      "version": "3.6.3"
     }
    }
   ]
  }
 },
 "nbformat": 4,
 "nbformat_minor": 2
}
